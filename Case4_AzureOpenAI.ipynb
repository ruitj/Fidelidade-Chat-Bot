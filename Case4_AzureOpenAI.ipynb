{
 "cells": [
  {
   "cell_type": "code",
   "execution_count": 1,
   "id": "b001f1ad",
   "metadata": {},
   "outputs": [],
   "source": [
    "import os\n",
    "import time\n",
    "import json\n",
    "import requests\n",
    "from azure.identity import DefaultAzureCredential, get_bearer_token_provider\n",
    "from openai import AzureOpenAI\n",
    "from langdetect import detect\n"
   ]
  },
  {
   "cell_type": "code",
   "execution_count": 2,
   "id": "6e3c25fc",
   "metadata": {},
   "outputs": [],
   "source": [
    "API_KEY = \"8J6pTdfaGgA5r193UVLsBshUspqwNpal42Jse1aHaok1cWNTLpRkJQQJ99BDACYeBjFXJ3w3AAABACOGLa23\""
   ]
  },
  {
   "cell_type": "code",
   "execution_count": 3,
   "id": "d6bafc9a",
   "metadata": {},
   "outputs": [],
   "source": [
    "\n",
    "client = AzureOpenAI(\n",
    "  azure_endpoint = \"https://ai-bcds.openai.azure.com/\",\n",
    "  api_key= API_KEY,\n",
    "  api_version=\"2024-05-01-preview\"\n",
    ")\n",
    "\n",
    "assistant = client.beta.assistants.create(\n",
    "    model=\"gpt-4o-mini\",  # replace with model deployment name\n",
    "    name=\"Assistant Group N (R)\",\n",
    "    instructions=\"Nunca uses mais do que 700 caracteres. Tu és um perito que trabalha na Fidelidade em investimentos a prazo. Lembra-te que estas a falar com pessoas que não têm formação financeira. Simplifica a linguagem e por vezes faz um pouco de literacia financeira. Recomenda sempre produtos da Fidelidade sempre que for um investimento que faça sentido outros não serão permitidos. Informações não disponiveis nos ficheiros está fora do teu ambito como tal diz que não sabes responder a essa questão. Recorre sempre a fontes disponiveis nos ficheiros e faz citações.\",\n",
    "    tools=[{\"type\":\"file_search\"}]\n",
    "    ,tool_resources={\"file_search\":{\"vector_store_ids\":[\"vs_2oe1I9LEsJcvJEKmbJnBuLwk\"]},\"code_interpreter\":{\"file_ids\":[\"assistant-WuJZaGApRBgPZGvfPJwTBF\",\"assistant-WQbe2oYNiunshZFamDkAMe\",\"assistant-WA9mo2ooGuCakdtLYe7S5Y\",\"assistant-VmGKDJtKWW8mLr7RsNDHJ4\",\"assistant-VcoN7vmxYPZCBfSTaFsEQ3\",\"assistant-TaHujXgSvATXXH1V5gBTDN\",\"assistant-NMXvUzELtRbwtQMoTXeApo\",\"assistant-LvBZjKCKvtwUvCCTgpfWim\",\"assistant-GWrPgzCPp8si1AH2yKKJBB\",\"assistant-F5nrFbNEjGxEqeSCmkdLAg\",\"assistant-EwB2EpAtrmQVUrtxvg79HB\",\"assistant-BFYazbjKgte4W5u9Jgrs6b\",\"assistant-96mBrzvMJbaTjLYcCEG3S2\",\"assistant-8phYrqvFLjksiThSKqSgkq\",\"assistant-7GHqFyWe29skpMH8Ug4QoZ\",\"assistant-6zJbn35vHos3RRzqJUiVMQ\",\"assistant-5dMu4U3q2VUkjhP4LvhAGb\",\"assistant-4hduKqwh6y7AWcUohbxMC3\",\"assistant-426n1B453C2wqH2AnDc2mh\",\"assistant-3UFjejDd1iMmYhBuj2bgi8\"]}},\n",
    "    temperature=0.05,\n",
    "    top_p=0.9\n",
    ")"
   ]
  },
  {
   "cell_type": "markdown",
   "id": "7e574218",
   "metadata": {},
   "source": [
    "### 1. One question prompt"
   ]
  },
  {
   "cell_type": "code",
   "execution_count": 4,
   "id": "cadcb6fe",
   "metadata": {},
   "outputs": [],
   "source": [
    "question = \"O Fidelidade Savings é mais indicado para que perfil de risco?\"\n"
   ]
  },
  {
   "cell_type": "code",
   "execution_count": 5,
   "id": "b3e7f7a2",
   "metadata": {},
   "outputs": [
    {
     "name": "stderr",
     "output_type": "stream",
     "text": [
      "C:\\Users\\ruite\\AppData\\Local\\Temp\\ipykernel_24776\\1691583907.py:4: DeprecationWarning: The Assistants API is deprecated in favor of the Responses API\n",
      "  thread = client.beta.threads.create()\n",
      "C:\\Users\\ruite\\AppData\\Local\\Temp\\ipykernel_24776\\1691583907.py:7: DeprecationWarning: The Assistants API is deprecated in favor of the Responses API\n",
      "  message = client.beta.threads.messages.create(\n",
      "C:\\Users\\ruite\\AppData\\Local\\Temp\\ipykernel_24776\\1691583907.py:16: DeprecationWarning: The Assistants API is deprecated in favor of the Responses API\n",
      "  run = client.beta.threads.runs.create(\n",
      "C:\\Users\\ruite\\AppData\\Local\\Temp\\ipykernel_24776\\1691583907.py:24: DeprecationWarning: The Assistants API is deprecated in favor of the Responses API\n",
      "  run = client.beta.threads.runs.retrieve(\n",
      "C:\\Users\\ruite\\AppData\\Local\\Temp\\ipykernel_24776\\1691583907.py:30: DeprecationWarning: The Assistants API is deprecated in favor of the Responses API\n",
      "  messages = client.beta.threads.messages.list(\n"
     ]
    },
    {
     "data": {
      "text/markdown": [
       "**user**: O Fidelidade Savings é mais indicado para que perfil de risco?"
      ],
      "text/plain": [
       "<IPython.core.display.Markdown object>"
      ]
     },
     "metadata": {},
     "output_type": "display_data"
    },
    {
     "data": {
      "text/markdown": [
       "**assistant**: O Fidelidade Savings é adequado para diferentes perfis de risco, dependendo da opção escolhida:\n",
       "\n",
       "1. **Opção Seguro**: Ideal para clientes com perfil prudente, que buscam segurança total do capital investido e rendimento garantido (variável). É a opção mais conservadora.\n",
       "\n",
       "2. **Opção Proteção Ações**: Destinada a clientes com perfil equilibrado, oferece uma garantia de 90% do capital investido, permitindo um maior potencial de ganho, mas com algum risco.\n",
       "\n",
       "3. **Opção Dinâmico Ações**: Para clientes com perfil dinâmico, que aceitam o risco de não ter garantia do capital, buscando maior rentabilidade através de investimentos em ações.\n",
       "\n",
       "Assim, o produto se adapta a diferentes necessidades e tolerâncias ao risco."
      ],
      "text/plain": [
       "<IPython.core.display.Markdown object>"
      ]
     },
     "metadata": {},
     "output_type": "display_data"
    }
   ],
   "source": [
    "from IPython.display import display, Markdown\n",
    "import re\n",
    "# Create a thread\n",
    "thread = client.beta.threads.create()\n",
    "\n",
    "# Add a user question to the thread\n",
    "message = client.beta.threads.messages.create(\n",
    "  thread_id=thread.id,\n",
    "  role=\"user\",\n",
    "  content=question # Replace this with your prompt\n",
    ")\n",
    "\n",
    "\n",
    "\n",
    "# Run the thread\n",
    "run = client.beta.threads.runs.create(\n",
    "  thread_id=thread.id,\n",
    "  assistant_id=assistant.id\n",
    ")\n",
    "\n",
    "# Looping until the run completes or fails\n",
    "while run.status in ['queued', 'in_progress', 'cancelling']:\n",
    "  time.sleep(1)\n",
    "  run = client.beta.threads.runs.retrieve(\n",
    "    thread_id=thread.id,\n",
    "    run_id=run.id\n",
    "  )\n",
    "\n",
    "if run.status == 'completed':\n",
    "  messages = client.beta.threads.messages.list(\n",
    "    thread_id=thread.id\n",
    "  )\n",
    "\n",
    "  for msg in reversed(messages.data):\n",
    "    cleaned = re.sub(r'【\\d+:\\d+†source】', '', msg.content[0].text.value)\n",
    "    display(Markdown(f\"**{msg.role}**: {cleaned}\"))\n",
    "elif run.status == 'requires_action':\n",
    "  # the assistant requires calling some functions\n",
    "  # and submit the tool outputs back to the run\n",
    "  pass\n",
    "else:\n",
    "  print(run.status)"
   ]
  },
  {
   "cell_type": "markdown",
   "id": "ed4c4a89",
   "metadata": {},
   "source": [
    "### 2. Sequential prompt chat"
   ]
  },
  {
   "cell_type": "code",
   "execution_count": 6,
   "id": "8f8aad89",
   "metadata": {},
   "outputs": [],
   "source": [
    "# STEP 2: Function to send a message to the assistant and get a reply\n",
    "def chat_with_assistant(user_message, thread_id,language):\n",
    "\n",
    "    # Add a user question to the thread\n",
    "    client.beta.threads.messages.create(\n",
    "    thread_id=thread.id,\n",
    "    role=\"user\",\n",
    "    content=user_message # Replace this with your prompt\n",
    "    )\n",
    "\n",
    "    if language == 'en':\n",
    "        run = client.beta.threads.runs.create_and_poll(\n",
    "        thread_id=thread_id,\n",
    "        assistant_id=assistant.id,\n",
    "        additional_instructions='From now on, please respond in English.',\n",
    "\n",
    "        )\n",
    "    else:\n",
    "    # Create a run to process the message\n",
    "        run = client.beta.threads.runs.create_and_poll(\n",
    "            thread_id=thread_id,\n",
    "            assistant_id=assistant.id,\n",
    "            additional_instructions='From now on, please respond in Portuguese.',\n",
    "\n",
    "        )\n",
    "\n",
    "    # Get assistant's response\n",
    "    messages = client.beta.threads.messages.list(thread_id=thread_id)\n",
    "    assistant_messages = [msg for msg in messages.data if msg.role == \"assistant\"]\n",
    "\n",
    "    msg = ''\n",
    "    #get the last assistant message\n",
    "    \n",
    "    msg+= re.sub(r'【\\d+:\\d+†source】', '', assistant_messages[0].content[0].text.value)\n",
    "    return msg\n"
   ]
  },
  {
   "cell_type": "code",
   "execution_count": 7,
   "id": "90d078a5",
   "metadata": {},
   "outputs": [],
   "source": [
    "def detect_language(text):\n",
    "    try:\n",
    "        lang = detect(text)\n",
    "        return 'pt' if lang == 'pt' else 'en'\n",
    "    except:\n",
    "        return 'pt'"
   ]
  },
  {
   "cell_type": "code",
   "execution_count": null,
   "id": "01485689",
   "metadata": {},
   "outputs": [],
   "source": [
    "thread = client.beta.threads.create()\n",
    "\n",
    "# STEP 3: Chat loop (example)\n",
    "while True:\n",
    "    user_input = input(\"You: \")\n",
    "    if user_input.lower() in [\"exit\", \"quit\"]: break\n",
    "\n",
    "    lang = detect_language(user_input)\n",
    "    \n",
    "    display(Markdown(f\"> **👤 You:**\\n> {user_input.replace('\\n', '\\n> ')}\"))\n",
    "    print(\"Assistant is thinking...\")\n",
    "    reply = chat_with_assistant(user_input, thread.id,lang)\n",
    "    \n",
    "    display(Markdown(f\"> **🤖 Assistant:**\\n> {reply.replace('\\n', '\\n> ')}\"))"
   ]
  },
  {
   "cell_type": "code",
   "execution_count": null,
   "id": "e5dc622c",
   "metadata": {},
   "outputs": [],
   "source": []
  }
 ],
 "metadata": {
  "kernelspec": {
   "display_name": "DM2425",
   "language": "python",
   "name": "python3"
  },
  "language_info": {
   "codemirror_mode": {
    "name": "ipython",
    "version": 3
   },
   "file_extension": ".py",
   "mimetype": "text/x-python",
   "name": "python",
   "nbconvert_exporter": "python",
   "pygments_lexer": "ipython3",
   "version": "3.12.5"
  }
 },
 "nbformat": 4,
 "nbformat_minor": 5
}
